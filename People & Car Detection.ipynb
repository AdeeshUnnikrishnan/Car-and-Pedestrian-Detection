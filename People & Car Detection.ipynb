{
 "cells": [
  {
   "cell_type": "code",
   "execution_count": 2,
   "metadata": {},
   "outputs": [],
   "source": [
    "import cv2\n",
    "import numpy as np"
   ]
  },
  {
   "cell_type": "markdown",
   "metadata": {},
   "source": [
    "# People Detection"
   ]
  },
  {
   "cell_type": "code",
   "execution_count": 3,
   "metadata": {},
   "outputs": [],
   "source": [
    "# Full Body Classifier\n",
    "full_body = cv2.CascadeClassifier(\"haarcascade_fullbody.xml\")\n",
    "\n",
    "# input video file\n",
    "cap = cv2.VideoCapture(\"walking.avi\")\n",
    "\n",
    "# iterating through each frame in the video\n",
    "while cap.isOpened():\n",
    "    ret, frame = cap.read()\n",
    "    # resizing the frame\n",
    "    frame = cv2.resize(frame, None, fx=0.5, fy=0.5, interpolation = cv2.INTER_LINEAR)\n",
    "    \n",
    "    gray = cv2.cvtColor(frame, cv2.COLOR_BGR2GRAY)\n",
    "    \n",
    "    #passing the frame to body_classifier\n",
    "    # 1.3 represents scaling, helps in faster detection\n",
    "    # 3 represents senstivity\n",
    "    full = full_body.detectMultiScale(gray, 1.2, 3)\n",
    "    \n",
    "    for (x,y,w,h) in full:\n",
    "        cv2.rectangle(frame, (x,y), (x+w,y+h), (0,255,0), 2)\n",
    "        cv2.imshow(\"Detected\",frame)\n",
    "        \n",
    "    if cv2.waitKey(1)==13:\n",
    "            break\n",
    "            \n",
    "cap.release()\n",
    "cv2.destroyAllWindows()"
   ]
  },
  {
   "cell_type": "code",
   "execution_count": 4,
   "metadata": {},
   "outputs": [],
   "source": [
    "import time\n",
    "# Full Body Classifier\n",
    "full_body = cv2.CascadeClassifier(\"haarcascade_car.xml\")\n",
    "\n",
    "# input video file\n",
    "cap = cv2.VideoCapture(\"cars.avi\")\n",
    "\n",
    "# iterating through each frame in the video\n",
    "while cap.isOpened():\n",
    "    time.sleep(.05)\n",
    "    ret, frame = cap.read()\n",
    "    # resizing the frame\n",
    "    \n",
    "    gray = cv2.cvtColor(frame, cv2.COLOR_BGR2GRAY)\n",
    "    \n",
    "    #passing the frame to body_classifier\n",
    "    # 1.4 represents scaling, helps in faster detection\n",
    "    # 3 represents senstivity\n",
    "    full = full_body.detectMultiScale(gray, 1.4, 3)\n",
    "    \n",
    "    for (x,y,w,h) in full:\n",
    "        cv2.rectangle(frame, (x,y), (x+w,y+h), (0,255,0), 2)\n",
    "        cv2.imshow(\"Detected\",frame)\n",
    "        \n",
    "    if cv2.waitKey(1)==13:\n",
    "            break\n",
    "            \n",
    "cap.release()\n",
    "cv2.destroyAllWindows()"
   ]
  },
  {
   "cell_type": "code",
   "execution_count": null,
   "metadata": {},
   "outputs": [],
   "source": []
  }
 ],
 "metadata": {
  "kernelspec": {
   "display_name": "Python 3",
   "language": "python",
   "name": "python3"
  },
  "language_info": {
   "codemirror_mode": {
    "name": "ipython",
    "version": 3
   },
   "file_extension": ".py",
   "mimetype": "text/x-python",
   "name": "python",
   "nbconvert_exporter": "python",
   "pygments_lexer": "ipython3",
   "version": "3.7.1"
  }
 },
 "nbformat": 4,
 "nbformat_minor": 2
}
